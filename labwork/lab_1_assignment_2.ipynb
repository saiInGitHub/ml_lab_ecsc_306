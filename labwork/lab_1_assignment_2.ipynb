{
 "cells": [
  {
   "cell_type": "code",
   "execution_count": 1,
   "metadata": {
    "collapsed": true
   },
   "outputs": [],
   "source": [
    "import tensorflow as tf"
   ]
  },
  {
   "cell_type": "code",
   "execution_count": 32,
   "metadata": {},
   "outputs": [
    {
     "name": "stdout",
     "output_type": "stream",
     "text": [
      "[ 1.10000002  2.20000005  3.29999995  4.4000001 ]\n",
      "[ 2.20000005  3.29999995  4.4000001   5.5       ]\n"
     ]
    }
   ],
   "source": [
    "a=tf.constant([1.1,2.2,3.3,4.4],dtype=tf.float32)\n",
    "b=tf.constant([2.2,3.3,4.4,5.5],dtype=tf.float32)\n",
    "\n",
    "with tf.Session() as sess:\n",
    "    print(sess.run(a))\n",
    "    print(sess.run(b))\n",
    "    #print(sess.run(a[0]))"
   ]
  },
  {
   "cell_type": "code",
   "execution_count": 33,
   "metadata": {},
   "outputs": [
    {
     "name": "stdout",
     "output_type": "stream",
     "text": [
      "2.75 3.85\n"
     ]
    }
   ],
   "source": [
    "#mean\n",
    "with tf.Session() as sess:\n",
    "    _mean_a=tf.reduce_mean(a)\n",
    "    _mean_b=tf.reduce_mean(b)\n",
    "    print(sess.run(_mean_a),sess.run(_mean_b))\n"
   ]
  },
  {
   "cell_type": "code",
   "execution_count": 37,
   "metadata": {},
   "outputs": [
    {
     "name": "stdout",
     "output_type": "stream",
     "text": [
      "6.05\n",
      "6.05\n"
     ]
    }
   ],
   "source": [
    "#variance\n",
    "sess=tf.Session()\n",
    "variance_a=tf.constant(0,dtype=tf.float32)\n",
    "variance_b=tf.constant(0,dtype=tf.float32)\n",
    "variance_a=tf.reduce_sum(tf.square(tf.subtract(sess.run(a),sess.run(_mean_a))))\n",
    "variance_b=tf.reduce_sum(tf.square(tf.subtract(sess.run(b),sess.run(_mean_b))))\n",
    "print(sess.run(variance_a))\n",
    "print(sess.run(variance_b))"
   ]
  },
  {
   "cell_type": "code",
   "execution_count": 39,
   "metadata": {},
   "outputs": [
    {
     "name": "stdout",
     "output_type": "stream",
     "text": [
      "6.05\n"
     ]
    }
   ],
   "source": [
    "#covariance covariance=sum((x(i)−mean(x))∗(y(i)−mean(y)))\n",
    "sess=tf.Session()\n",
    "temp1=tf.subtract(sess.run(a),sess.run(_mean_a))\n",
    "temp2=tf.subtract(sess.run(b),sess.run(_mean_b))\n",
    "covar=tf.multiply(temp1,temp2)\n",
    "covariance=tf.reduce_sum(covar,name=\"Covariance\")\n",
    "print(sess.run(covariance))\n"
   ]
  },
  {
   "cell_type": "code",
   "execution_count": 41,
   "metadata": {},
   "outputs": [
    {
     "name": "stdout",
     "output_type": "stream",
     "text": [
      "1.0\n"
     ]
    }
   ],
   "source": [
    "#m=covariance(x,y)/variance(x)\n",
    "sess=tf.Session()\n",
    "m=tf.div(sess.run(covariance),sess.run(variance_a))\n",
    "print(sess.run(m))"
   ]
  },
  {
   "cell_type": "code",
   "execution_count": 43,
   "metadata": {},
   "outputs": [
    {
     "name": "stdout",
     "output_type": "stream",
     "text": [
      "1.1\n"
     ]
    }
   ],
   "source": [
    "#c = mean(y) -m* mean(x)\n",
    "temp=tf.multiply(sess.run(m),sess.run(_mean_a),name=\"m\")\n",
    "c=tf.subtract(sess.run(_mean_b),sess.run(temp),name=\"c\")\n",
    "print(sess.run(c))"
   ]
  },
  {
   "cell_type": "code",
   "execution_count": null,
   "metadata": {
    "collapsed": true
   },
   "outputs": [],
   "source": []
  }
 ],
 "metadata": {
  "kernelspec": {
   "display_name": "Python 3",
   "language": "python",
   "name": "python3"
  },
  "language_info": {
   "codemirror_mode": {
    "name": "ipython",
    "version": 3
   },
   "file_extension": ".py",
   "mimetype": "text/x-python",
   "name": "python",
   "nbconvert_exporter": "python",
   "pygments_lexer": "ipython3",
   "version": "3.5.4"
  }
 },
 "nbformat": 4,
 "nbformat_minor": 2
}
