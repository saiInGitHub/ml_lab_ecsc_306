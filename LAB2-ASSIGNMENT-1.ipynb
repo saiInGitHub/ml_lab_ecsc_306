{
 "cells": [
  {
   "cell_type": "code",
   "execution_count": 26,
   "metadata": {
    "collapsed": true
   },
   "outputs": [],
   "source": [
    "import tensorflow as tf\n",
    "import numpy\n",
    "import matplotlib.pyplot as plt\n",
    "rng = numpy.random"
   ]
  },
  {
   "cell_type": "code",
   "execution_count": 43,
   "metadata": {
    "collapsed": true
   },
   "outputs": [],
   "source": [
    "# Parameters\n",
    "learning_rate_1 = 0.005\n",
    "learning_rate_2 = 0.0005\n",
    "learning_rate_3 = 0.001\n",
    "training_epochs_1 = 100\n",
    "training_epochs_2 = 500\n",
    "training_epochs_3 = 100000\n",
    "display_step_1 = 5\n",
    "display_step_2 = 10\n",
    "display_step_3 = 500"
   ]
  },
  {
   "cell_type": "code",
   "execution_count": 28,
   "metadata": {},
   "outputs": [
    {
     "name": "stdout",
     "output_type": "stream",
     "text": [
      "25 25\n"
     ]
    }
   ],
   "source": [
    "train_X = numpy.asarray([3.3,4.4,5.5,6.71,6.93,4.168,9.779,6.182,7.59,2.167,\n",
    "                         7.042,10.791,5.313,7.997,5.654,9.27,3.1,4.5,4.32,6.434,6.765,3.123,9,6,3.44])\n",
    "train_Y = numpy.asarray([1.7,2.76,2.09,3.19,1.694,1.573,3.366,2.596,2.53,1.221,\n",
    "                         2.827,3.465,1.65,2.904,2.42,2.94,1.3,7.042,10.791,5.313,7.997,5.654,9.27,3.1,4.5])\n",
    "n_samples = train_X.shape[0]\n",
    "n_samples_1 = train_Y.shape[0]\n",
    "print(n_samples,n_samples_1)"
   ]
  },
  {
   "cell_type": "code",
   "execution_count": 29,
   "metadata": {
    "collapsed": true
   },
   "outputs": [],
   "source": [
    "# tf Graph Input\n",
    "X = tf.placeholder(\"float\")\n",
    "Y = tf.placeholder(\"float\")\n",
    "\n",
    "# Set model weights\n",
    "W = tf.Variable(rng.randn(), name=\"weight\")\n",
    "b = tf.Variable(rng.randn(), name=\"bias\")"
   ]
  },
  {
   "cell_type": "code",
   "execution_count": 30,
   "metadata": {},
   "outputs": [],
   "source": [
    "# Construct a linear model\n",
    "pred = tf.add(tf.multiply(X, W), b)"
   ]
  },
  {
   "cell_type": "code",
   "execution_count": 33,
   "metadata": {
    "collapsed": true
   },
   "outputs": [],
   "source": [
    "#learning rate = 0.005\n",
    "#training epoch = 100\n",
    "#J(θ)=1/2m * ∑ i=1 to m (hθ(x(i))−y(i))^2\n",
    "# Mean squared error\n",
    "cost = tf.reduce_sum(tf.pow(pred-Y, 2))/(2*n_samples)\n",
    "# Gradient descent\n",
    "optimizer = tf.train.AdagradOptimizer(learning_rate_1).minimize(cost)"
   ]
  },
  {
   "cell_type": "code",
   "execution_count": 34,
   "metadata": {
    "collapsed": true
   },
   "outputs": [],
   "source": [
    "# Initializing the variables\n",
    "init = tf.global_variables_initializer()"
   ]
  },
  {
   "cell_type": "code",
   "execution_count": 35,
   "metadata": {},
   "outputs": [
    {
     "name": "stdout",
     "output_type": "stream",
     "text": [
      "Epoch: 0005 cost= 5.929245472 W= 0.798924 b= 0.805717\n",
      "Epoch: 0010 cost= 5.555123806 W= 0.774606 b= 0.782741\n",
      "Epoch: 0015 cost= 5.302410126 W= 0.75687 b= 0.766247\n",
      "Epoch: 0020 cost= 5.110452652 W= 0.742529 b= 0.753107\n",
      "Epoch: 0025 cost= 4.956130028 W= 0.730349 b= 0.742108\n",
      "Epoch: 0030 cost= 4.827745914 W= 0.719702 b= 0.732623\n",
      "Epoch: 0035 cost= 4.718445301 W= 0.710213 b= 0.724281\n",
      "Epoch: 0040 cost= 4.623816013 W= 0.701638 b= 0.716841\n",
      "Epoch: 0045 cost= 4.540832043 W= 0.693808 b= 0.710133\n",
      "Epoch: 0050 cost= 4.467319489 W= 0.686601 b= 0.704036\n",
      "Epoch: 0055 cost= 4.401665211 W= 0.679922 b= 0.698457\n",
      "Epoch: 0060 cost= 4.342623711 W= 0.6737 b= 0.693323\n",
      "Epoch: 0065 cost= 4.289218903 W= 0.667876 b= 0.688578\n",
      "Epoch: 0070 cost= 4.240670204 W= 0.662405 b= 0.684175\n",
      "Epoch: 0075 cost= 4.196347713 W= 0.657248 b= 0.680076\n",
      "Epoch: 0080 cost= 4.155728340 W= 0.652372 b= 0.676248\n",
      "Epoch: 0085 cost= 4.118374825 W= 0.64775 b= 0.672666\n",
      "Epoch: 0090 cost= 4.083925724 W= 0.64336 b= 0.669306\n",
      "Epoch: 0095 cost= 4.052063465 W= 0.639181 b= 0.666148\n",
      "Epoch: 0100 cost= 4.022521496 W= 0.635195 b= 0.663174\n",
      "Optimization Finished!\n",
      "Training cost= 4.02252 W= 0.635195 b= 0.663174 \n",
      "\n"
     ]
    },
    {
     "data": {
      "image/png": "[encoded data removed]",
      "text/plain": [
       "<matplotlib.figure.Figure at 0x1cd83c205c0>"
      ]
     },
     "metadata": {},
     "output_type": "display_data"
    }
   ],
   "source": [
    "# Launch the graph\n",
    "#\n",
    "with tf.Session() as sess:\n",
    "    sess.run(init)\n",
    "\n",
    "    # Fit all training data\n",
    "    for epoch in range(training_epochs_1):\n",
    "        for (x, y) in zip(train_X, train_Y):\n",
    "            sess.run(optimizer, feed_dict={X: x, Y: y})\n",
    "\n",
    "        #Display logs per epoch step\n",
    "        if (epoch+1) % display_step_1 == 0:\n",
    "            c = sess.run(cost, feed_dict={X: train_X, Y:train_Y})\n",
    "            print (\"Epoch:\", '%04d' % (epoch+1), \"cost=\", \"{:.9f}\".format(c), \n",
    "                \"W=\", sess.run(W), \"b=\", sess.run(b))\n",
    "\n",
    "    print (\"Optimization Finished!\")\n",
    "    training_cost = sess.run(cost, feed_dict={X: train_X, Y: train_Y})\n",
    "    print (\"Training cost=\", training_cost, \"W=\", sess.run(W), \"b=\", sess.run(b), '\\n')\n",
    "\n",
    "    #Graphic display\n",
    "    plt.plot(train_X, train_Y, 'ro', label='Original data')\n",
    "    plt.plot(train_X, sess.run(W) * train_X + sess.run(b), label='Fitted line')\n",
    "    plt.legend()\n",
    "    plt.show()"
   ]
  },
  {
   "cell_type": "code",
   "execution_count": 36,
   "metadata": {
    "collapsed": true
   },
   "outputs": [],
   "source": [
    "#learning rate = 0.0005\n",
    "#training epoch = 500\n",
    "#J(θ)=1/2m * ∑ i=1 to m (hθ(x(i))−y(i))^2\n",
    "# Mean squared error\n",
    "cost = tf.reduce_sum(tf.pow(pred-Y, 2))/(2*n_samples)\n",
    "# Gradient descent\n",
    "optimizer = tf.train.AdagradOptimizer(learning_rate_2).minimize(cost)"
   ]
  },
  {
   "cell_type": "code",
   "execution_count": 37,
   "metadata": {
    "collapsed": true
   },
   "outputs": [],
   "source": [
    "# Initializing the variables\n",
    "init = tf.global_variables_initializer()"
   ]
  },
  {
   "cell_type": "markdown",
   "metadata": {},
   "source": [
    "## Launch the graph\n",
    "with tf.Session() as sess:\n",
    "    sess.run(init)\n",
    "\n",
    "    # Fit all training data\n",
    "    for epoch in range(training_epochs_2):\n",
    "        for (x, y) in zip(train_X, train_Y):\n",
    "            sess.run(optimizer, feed_dict={X: x, Y: y})\n",
    "\n",
    "        #Display logs per epoch step\n",
    "        if (epoch+1) % display_step_2 == 0:\n",
    "            c = sess.run(cost, feed_dict={X: train_X, Y:train_Y})\n",
    "            print (\"Epoch:\", '%04d' % (epoch+1), \"cost=\", \"{:.9f}\".format(c), \n",
    "                \"W=\", sess.run(W), \"b=\", sess.run(b))\n",
    "\n",
    "    print (\"Optimization Finished!\")\n",
    "    training_cost = sess.run(cost, feed_dict={X: train_X, Y: train_Y})\n",
    "    print (\"Training cost=\", training_cost, \"W=\", sess.run(W), \"b=\", sess.run(b), '\\n')\n",
    "\n",
    "    #Graphic display\n",
    "    plt.plot(train_X, train_Y, 'ro', label='Original data')\n",
    "    plt.plot(train_X, sess.run(W) * train_X + sess.run(b), label='Fitted line')\n",
    "    plt.legend()\n",
    "    plt.show()"
   ]
  },
  {
   "cell_type": "code",
   "execution_count": 40,
   "metadata": {
    "collapsed": true
   },
   "outputs": [],
   "source": [
    "#learning_rate_3 = 0.001\n",
    "#training_epochs_3 = 100000\n",
    "#J(θ)=1/2m * ∑ i=1 to m (hθ(x(i))−y(i))^2\n",
    "# Mean squared error\n",
    "cost = tf.reduce_sum(tf.pow(pred-Y, 2))/(2*n_samples)\n",
    "# Gradient descent\n",
    "optimizer = tf.train.AdagradOptimizer(learning_rate_3).minimize(cost)"
   ]
  },
  {
   "cell_type": "code",
   "execution_count": 41,
   "metadata": {
    "collapsed": true
   },
   "outputs": [],
   "source": [
    "# Initializing the variables\n",
    "init = tf.global_variables_initializer()"
   ]
  },
  {
   "cell_type": "code",
   "execution_count": 45,
   "metadata": {},
   "outputs": [
    {
     "name": "stdout",
     "output_type": "stream",
     "text": [
      "Epoch: 0500 cost= 5.148742676 W= 0.746656 b= 0.746038\n",
      "Epoch: 1000 cost= 4.654022694 W= 0.705574 b= 0.709425\n",
      "Epoch: 1500 cost= 4.367423534 W= 0.677458 b= 0.685643\n",
      "Epoch: 2000 cost= 4.176589012 W= 0.655971 b= 0.668349\n",
      "Epoch: 2500 cost= 4.040381432 W= 0.638652 b= 0.655086\n",
      "Epoch: 3000 cost= 3.938876629 W= 0.624233 b= 0.644601\n",
      "Epoch: 3500 cost= 3.860925198 W= 0.611964 b= 0.636144\n",
      "Epoch: 4000 cost= 3.799710035 W= 0.601356 b= 0.62923\n",
      "Epoch: 4500 cost= 3.750879765 W= 0.592087 b= 0.623549\n",
      "Epoch: 5000 cost= 3.711212873 W= 0.583878 b= 0.618835\n",
      "Epoch: 5500 cost= 3.678746700 W= 0.576581 b= 0.614914\n",
      "Epoch: 6000 cost= 3.651783466 W= 0.57002 b= 0.611653\n",
      "Epoch: 6500 cost= 3.629328251 W= 0.564123 b= 0.608984\n",
      "Epoch: 7000 cost= 3.610349655 W= 0.558762 b= 0.606769\n",
      "Epoch: 7500 cost= 3.594313622 W= 0.5539 b= 0.604983\n",
      "Epoch: 8000 cost= 3.580613613 W= 0.549456 b= 0.603502\n",
      "Epoch: 8500 cost= 3.568853140 W= 0.545382 b= 0.602357\n",
      "Epoch: 9000 cost= 3.558744907 W= 0.541654 b= 0.601442\n",
      "Epoch: 9500 cost= 3.549822807 W= 0.538157 b= 0.600731\n",
      "Epoch: 10000 cost= 3.542177439 W= 0.534978 b= 0.60024\n",
      "Epoch: 10500 cost= 3.535465479 W= 0.532024 b= 0.599971\n",
      "Epoch: 11000 cost= 3.529455662 W= 0.529232 b= 0.599822\n",
      "Epoch: 11500 cost= 3.524097681 W= 0.526607 b= 0.599807\n",
      "Epoch: 12000 cost= 3.519408941 W= 0.524189 b= 0.599943\n",
      "Epoch: 12500 cost= 3.515231848 W= 0.521927 b= 0.600161\n",
      "Epoch: 13000 cost= 3.511508226 W= 0.519816 b= 0.600493\n",
      "Epoch: 13500 cost= 3.508156061 W= 0.517829 b= 0.600914\n",
      "Epoch: 14000 cost= 3.505059004 W= 0.515913 b= 0.601441\n",
      "Epoch: 14500 cost= 3.502349615 W= 0.51417 b= 0.602045\n",
      "Epoch: 15000 cost= 3.499851942 W= 0.512494 b= 0.602605\n",
      "Epoch: 15500 cost= 3.497602463 W= 0.510931 b= 0.60327\n",
      "Epoch: 16000 cost= 3.495543480 W= 0.509453 b= 0.604018\n",
      "Epoch: 16500 cost= 3.493584633 W= 0.507999 b= 0.60481\n",
      "Epoch: 17000 cost= 3.491834402 W= 0.506657 b= 0.605607\n",
      "Epoch: 17500 cost= 3.490235329 W= 0.5054 b= 0.606464\n",
      "Epoch: 18000 cost= 3.488708735 W= 0.504168 b= 0.60738\n",
      "Epoch: 18500 cost= 3.487333298 W= 0.503033 b= 0.608319\n",
      "Epoch: 19000 cost= 3.486032724 W= 0.501929 b= 0.609242\n",
      "Epoch: 19500 cost= 3.484827995 W= 0.50089 b= 0.610208\n",
      "Epoch: 20000 cost= 3.483761072 W= 0.499963 b= 0.611206\n",
      "Epoch: 20500 cost= 3.482687473 W= 0.499008 b= 0.612234\n",
      "Epoch: 21000 cost= 3.481673479 W= 0.498095 b= 0.613286\n",
      "Epoch: 21500 cost= 3.480712652 W= 0.497218 b= 0.614358\n",
      "Epoch: 22000 cost= 3.479793787 W= 0.49637 b= 0.615452\n",
      "Epoch: 22500 cost= 3.478918791 W= 0.495555 b= 0.616554\n",
      "Epoch: 23000 cost= 3.478096724 W= 0.494783 b= 0.617656\n",
      "Epoch: 23500 cost= 3.477302790 W= 0.494032 b= 0.61877\n",
      "Epoch: 24000 cost= 3.476553440 W= 0.493311 b= 0.619851\n",
      "Epoch: 24500 cost= 3.475877762 W= 0.492662 b= 0.620883\n",
      "Epoch: 25000 cost= 3.475194454 W= 0.492006 b= 0.621985\n",
      "Epoch: 25500 cost= 3.474548340 W= 0.491392 b= 0.623095\n",
      "Epoch: 26000 cost= 3.473935843 W= 0.490808 b= 0.624181\n",
      "Epoch: 26500 cost= 3.473327637 W= 0.490227 b= 0.625294\n",
      "Epoch: 27000 cost= 3.472717524 W= 0.489652 b= 0.626469\n",
      "Epoch: 27500 cost= 3.472125053 W= 0.48911 b= 0.627692\n",
      "Epoch: 28000 cost= 3.471554279 W= 0.488584 b= 0.62889\n",
      "Epoch: 28500 cost= 3.470997095 W= 0.488067 b= 0.630067\n",
      "Epoch: 29000 cost= 3.470464230 W= 0.48758 b= 0.631238\n",
      "Epoch: 29500 cost= 3.469942570 W= 0.487098 b= 0.632389\n",
      "Epoch: 30000 cost= 3.469449759 W= 0.486641 b= 0.633487\n",
      "Epoch: 30500 cost= 3.468950748 W= 0.486175 b= 0.634616\n",
      "Epoch: 31000 cost= 3.468453169 W= 0.485717 b= 0.635769\n",
      "Epoch: 31500 cost= 3.467974663 W= 0.485289 b= 0.636925\n",
      "Epoch: 32000 cost= 3.467519283 W= 0.484883 b= 0.638043\n",
      "Epoch: 32500 cost= 3.467051744 W= 0.48445 b= 0.639161\n",
      "Epoch: 33000 cost= 3.466592789 W= 0.484031 b= 0.64029\n",
      "Epoch: 33500 cost= 3.466141701 W= 0.483626 b= 0.641423\n",
      "Epoch: 34000 cost= 3.465689659 W= 0.483223 b= 0.642578\n",
      "Epoch: 34500 cost= 3.465233803 W= 0.48281 b= 0.643737\n",
      "Epoch: 35000 cost= 3.464805841 W= 0.482427 b= 0.644848\n",
      "Epoch: 35500 cost= 3.464405537 W= 0.482099 b= 0.645954\n",
      "Epoch: 36000 cost= 3.464019537 W= 0.481776 b= 0.647014\n",
      "Epoch: 36500 cost= 3.463630676 W= 0.48145 b= 0.648084\n",
      "Epoch: 37000 cost= 3.463227749 W= 0.481128 b= 0.649229\n",
      "Epoch: 37500 cost= 3.462827444 W= 0.48081 b= 0.650377\n",
      "Epoch: 38000 cost= 3.462441444 W= 0.480514 b= 0.651504\n",
      "Epoch: 38500 cost= 3.462057114 W= 0.48019 b= 0.652581\n",
      "Epoch: 39000 cost= 3.461683273 W= 0.479875 b= 0.653634\n",
      "Epoch: 39500 cost= 3.461297274 W= 0.479563 b= 0.654749\n",
      "Epoch: 40000 cost= 3.460909367 W= 0.479253 b= 0.655879\n",
      "Epoch: 40500 cost= 3.460540056 W= 0.478981 b= 0.656997\n",
      "Epoch: 41000 cost= 3.460171700 W= 0.478721 b= 0.658134\n",
      "Epoch: 41500 cost= 3.459796429 W= 0.478438 b= 0.659263\n",
      "Epoch: 42000 cost= 3.459441900 W= 0.478172 b= 0.660336\n",
      "Epoch: 42500 cost= 3.459094048 W= 0.477921 b= 0.661409\n",
      "Epoch: 43000 cost= 3.458751202 W= 0.477684 b= 0.662482\n",
      "Epoch: 43500 cost= 3.458392143 W= 0.477395 b= 0.663546\n",
      "Epoch: 44000 cost= 3.458041906 W= 0.477116 b= 0.66459\n",
      "Epoch: 44500 cost= 3.457695246 W= 0.47685 b= 0.665644\n",
      "Epoch: 45000 cost= 3.457349300 W= 0.476587 b= 0.6667\n",
      "Epoch: 45500 cost= 3.457015038 W= 0.476349 b= 0.667748\n",
      "Epoch: 46000 cost= 3.456688166 W= 0.476125 b= 0.668787\n",
      "Epoch: 46500 cost= 3.456347942 W= 0.475887 b= 0.669862\n",
      "Epoch: 47000 cost= 3.455998182 W= 0.47564 b= 0.670965\n",
      "Epoch: 47500 cost= 3.455664396 W= 0.475425 b= 0.672052\n",
      "Epoch: 48000 cost= 3.455338717 W= 0.475226 b= 0.673125\n",
      "Epoch: 48500 cost= 3.455015659 W= 0.475025 b= 0.674187\n",
      "Epoch: 49000 cost= 3.454690456 W= 0.474786 b= 0.675205\n",
      "Epoch: 49500 cost= 3.454372883 W= 0.474553 b= 0.676201\n",
      "Epoch: 50000 cost= 3.454067945 W= 0.474335 b= 0.677167\n",
      "Epoch: 50500 cost= 3.453768015 W= 0.474121 b= 0.67812\n",
      "Epoch: 51000 cost= 3.453461647 W= 0.473878 b= 0.679065\n",
      "Epoch: 51500 cost= 3.453168631 W= 0.473652 b= 0.679979\n",
      "Epoch: 52000 cost= 3.452885151 W= 0.473443 b= 0.680873\n",
      "Epoch: 52500 cost= 3.452601671 W= 0.473229 b= 0.681765\n",
      "Epoch: 53000 cost= 3.452312231 W= 0.473029 b= 0.682697\n",
      "Epoch: 53500 cost= 3.452027559 W= 0.472842 b= 0.683632\n",
      "Epoch: 54000 cost= 3.451719761 W= 0.472658 b= 0.684662\n",
      "Epoch: 54500 cost= 3.451405048 W= 0.472464 b= 0.685711\n",
      "Epoch: 55000 cost= 3.451089382 W= 0.472285 b= 0.68678\n",
      "Epoch: 55500 cost= 3.450776100 W= 0.472108 b= 0.687846\n",
      "Epoch: 56000 cost= 3.450458288 W= 0.471898 b= 0.688889\n",
      "Epoch: 56500 cost= 3.450153828 W= 0.471712 b= 0.68991\n",
      "Epoch: 57000 cost= 3.449855089 W= 0.471519 b= 0.690898\n",
      "Epoch: 57500 cost= 3.449557781 W= 0.471341 b= 0.6919\n",
      "Epoch: 58000 cost= 3.449267626 W= 0.471174 b= 0.692883\n",
      "Epoch: 58500 cost= 3.448976517 W= 0.470993 b= 0.693855\n",
      "Epoch: 59000 cost= 3.448690891 W= 0.470813 b= 0.694809\n",
      "Epoch: 59500 cost= 3.448413610 W= 0.470644 b= 0.695741\n",
      "Epoch: 60000 cost= 3.448136330 W= 0.470467 b= 0.696665\n",
      "Epoch: 60500 cost= 3.447865248 W= 0.47029 b= 0.697564\n",
      "Epoch: 61000 cost= 3.447599173 W= 0.470126 b= 0.698458\n",
      "Epoch: 61500 cost= 3.447332144 W= 0.469958 b= 0.699352\n",
      "Epoch: 62000 cost= 3.447070837 W= 0.469808 b= 0.700244\n",
      "Epoch: 62500 cost= 3.446802616 W= 0.469659 b= 0.701164\n",
      "Epoch: 63000 cost= 3.446537971 W= 0.469522 b= 0.702087\n",
      "Epoch: 63500 cost= 3.446277142 W= 0.469372 b= 0.702976\n",
      "Epoch: 64000 cost= 3.446017742 W= 0.469226 b= 0.703869\n",
      "Epoch: 64500 cost= 3.445748091 W= 0.469068 b= 0.704788\n",
      "Epoch: 65000 cost= 3.445474863 W= 0.468896 b= 0.705705\n",
      "Epoch: 65500 cost= 3.445207596 W= 0.468732 b= 0.706609\n",
      "Epoch: 66000 cost= 3.444935560 W= 0.468568 b= 0.707533\n",
      "Epoch: 66500 cost= 3.444663286 W= 0.468405 b= 0.70846\n",
      "Epoch: 67000 cost= 3.444393635 W= 0.468249 b= 0.709383\n",
      "Epoch: 67500 cost= 3.444125175 W= 0.468096 b= 0.710307\n",
      "Epoch: 68000 cost= 3.443860531 W= 0.467953 b= 0.711224\n",
      "Epoch: 68500 cost= 3.443595171 W= 0.467826 b= 0.712163\n",
      "Epoch: 69000 cost= 3.443325996 W= 0.467688 b= 0.713105\n",
      "Epoch: 69500 cost= 3.443057537 W= 0.467539 b= 0.714035\n",
      "Epoch: 70000 cost= 3.442779779 W= 0.467379 b= 0.714989\n",
      "Epoch: 70500 cost= 3.442504168 W= 0.4672 b= 0.715916\n",
      "Epoch: 71000 cost= 3.442229509 W= 0.467022 b= 0.71684\n",
      "Epoch: 71500 cost= 3.441962242 W= 0.466846 b= 0.71774\n",
      "Epoch: 72000 cost= 3.441705227 W= 0.466678 b= 0.718604\n",
      "Epoch: 72500 cost= 3.441459656 W= 0.466511 b= 0.719423\n",
      "Epoch: 73000 cost= 3.441218615 W= 0.466344 b= 0.720227\n",
      "Epoch: 73500 cost= 3.440977097 W= 0.466187 b= 0.721042\n",
      "Epoch: 74000 cost= 3.440732479 W= 0.466031 b= 0.721871\n",
      "Epoch: 74500 cost= 3.440487146 W= 0.465874 b= 0.722704\n",
      "Epoch: 75000 cost= 3.440238714 W= 0.465705 b= 0.723538\n",
      "Epoch: 75500 cost= 3.439997196 W= 0.465543 b= 0.724351\n"
     ]
    },
    {
     "name": "stdout",
     "output_type": "stream",
     "text": [
      "Epoch: 76000 cost= 3.439748287 W= 0.465383 b= 0.725195\n",
      "Epoch: 76500 cost= 3.439495325 W= 0.465225 b= 0.726059\n",
      "Epoch: 77000 cost= 3.439247847 W= 0.465091 b= 0.726923\n",
      "Epoch: 77500 cost= 3.439000607 W= 0.464954 b= 0.727787\n",
      "Epoch: 78000 cost= 3.438753605 W= 0.46482 b= 0.728652\n",
      "Epoch: 78500 cost= 3.438508034 W= 0.464686 b= 0.729511\n",
      "Epoch: 79000 cost= 3.438258410 W= 0.464539 b= 0.730376\n",
      "Epoch: 79500 cost= 3.438002825 W= 0.464368 b= 0.73124\n",
      "Epoch: 80000 cost= 3.437756062 W= 0.464215 b= 0.732087\n",
      "Epoch: 80500 cost= 3.437512875 W= 0.464065 b= 0.732925\n",
      "Epoch: 81000 cost= 3.437271118 W= 0.463916 b= 0.733755\n",
      "Epoch: 81500 cost= 3.437027931 W= 0.463764 b= 0.734589\n",
      "Epoch: 82000 cost= 3.436782122 W= 0.4636 b= 0.735424\n",
      "Epoch: 82500 cost= 3.436535597 W= 0.46346 b= 0.736284\n",
      "Epoch: 83000 cost= 3.436296940 W= 0.46333 b= 0.737123\n",
      "Epoch: 83500 cost= 3.436063290 W= 0.463215 b= 0.737958\n",
      "Epoch: 84000 cost= 3.435836792 W= 0.46308 b= 0.738742\n",
      "Epoch: 84500 cost= 3.435613632 W= 0.462947 b= 0.739517\n",
      "Epoch: 85000 cost= 3.435386896 W= 0.462813 b= 0.740306\n",
      "Epoch: 85500 cost= 3.435156584 W= 0.462683 b= 0.741111\n",
      "Epoch: 86000 cost= 3.434929609 W= 0.462564 b= 0.741915\n",
      "Epoch: 86500 cost= 3.434702396 W= 0.462444 b= 0.74272\n",
      "Epoch: 87000 cost= 3.434474230 W= 0.462319 b= 0.743525\n",
      "Epoch: 87500 cost= 3.434244394 W= 0.462185 b= 0.744328\n",
      "Epoch: 88000 cost= 3.434020758 W= 0.462047 b= 0.745103\n",
      "Epoch: 88500 cost= 3.433796406 W= 0.461908 b= 0.745878\n",
      "Epoch: 89000 cost= 3.433577061 W= 0.461789 b= 0.746653\n",
      "Epoch: 89500 cost= 3.433365107 W= 0.461693 b= 0.747419\n",
      "Epoch: 90000 cost= 3.433163643 W= 0.461609 b= 0.748156\n",
      "Epoch: 90500 cost= 3.432956934 W= 0.461515 b= 0.748905\n",
      "Epoch: 91000 cost= 3.432741165 W= 0.461411 b= 0.74968\n",
      "Epoch: 91500 cost= 3.432522535 W= 0.461307 b= 0.750468\n",
      "Epoch: 92000 cost= 3.432298660 W= 0.461203 b= 0.751278\n",
      "Epoch: 92500 cost= 3.432075262 W= 0.461098 b= 0.752083\n",
      "Epoch: 93000 cost= 3.431854010 W= 0.460987 b= 0.752875\n",
      "Epoch: 93500 cost= 3.431636333 W= 0.460859 b= 0.753638\n",
      "Epoch: 94000 cost= 3.431422949 W= 0.460731 b= 0.754383\n",
      "Epoch: 94500 cost= 3.431205988 W= 0.460586 b= 0.755128\n",
      "Epoch: 95000 cost= 3.430991411 W= 0.460451 b= 0.755873\n",
      "Epoch: 95500 cost= 3.430777073 W= 0.460317 b= 0.756618\n",
      "Epoch: 96000 cost= 3.430564642 W= 0.460191 b= 0.757363\n",
      "Epoch: 96500 cost= 3.430355310 W= 0.460077 b= 0.758108\n",
      "Epoch: 97000 cost= 3.430138588 W= 0.459973 b= 0.758888\n",
      "Epoch: 97500 cost= 3.429921627 W= 0.459857 b= 0.759663\n",
      "Epoch: 98000 cost= 3.429709435 W= 0.459765 b= 0.760437\n",
      "Epoch: 98500 cost= 3.429492235 W= 0.459648 b= 0.761212\n",
      "Epoch: 99000 cost= 3.429276466 W= 0.459513 b= 0.761965\n",
      "Epoch: 99500 cost= 3.429062605 W= 0.459379 b= 0.76271\n",
      "Epoch: 100000 cost= 3.428848505 W= 0.459245 b= 0.763455\n",
      "Optimization Finished!\n",
      "Training cost= 3.42885 W= 0.459245 b= 0.763455 \n",
      "\n"
     ]
    },
    {
     "data": {
      "image/png": "[encoded data removed]",
      "text/plain": [
       "<matplotlib.figure.Figure at 0x1cd84e59a58>"
      ]
     },
     "metadata": {},
     "output_type": "display_data"
    }
   ],
   "source": [
    "# Launch the graph\n",
    "#\n",
    "with tf.Session() as sess:\n",
    "    sess.run(init)\n",
    "\n",
    "    # Fit all training data\n",
    "    for epoch in range(training_epochs_3):\n",
    "        for (x, y) in zip(train_X, train_Y):\n",
    "            sess.run(optimizer, feed_dict={X: x, Y: y})\n",
    "\n",
    "        #Display logs per epoch step\n",
    "        if (epoch+1) % display_step_3 == 0:\n",
    "            c = sess.run(cost, feed_dict={X: train_X, Y:train_Y})\n",
    "            print (\"Epoch:\", '%04d' % (epoch+1), \"cost=\", \"{:.9f}\".format(c), \n",
    "                \"W=\", sess.run(W), \"b=\", sess.run(b))\n",
    "\n",
    "    print (\"Optimization Finished!\")\n",
    "    training_cost = sess.run(cost, feed_dict={X: train_X, Y: train_Y})\n",
    "    print (\"Training cost=\", training_cost, \"W=\", sess.run(W), \"b=\", sess.run(b), '\\n')\n",
    "\n",
    "    #Graphic display\n",
    "    plt.plot(train_X, train_Y, 'ro', label='Original data')\n",
    "    plt.plot(train_X, sess.run(W) * train_X + sess.run(b), label='Fitted line')\n",
    "    plt.legend()\n",
    "    plt.show()"
   ]
  },
  {
   "cell_type": "code",
   "execution_count": null,
   "metadata": {
    "collapsed": true
   },
   "outputs": [],
   "source": []
  }
 ],
 "metadata": {
  "kernelspec": {
   "display_name": "Python 3",
   "language": "python",
   "name": "python3"
  },
  "language_info": {
   "codemirror_mode": {
    "name": "ipython",
    "version": 3
   },
   "file_extension": ".py",
   "mimetype": "text/x-python",
   "name": "python",
   "nbconvert_exporter": "python",
   "pygments_lexer": "ipython3",
   "version": "3.5.4"
  }
 },
 "nbformat": 4,
 "nbformat_minor": 2
}
