{
 "cells": [
  {
   "cell_type": "code",
   "execution_count": 8,
   "metadata": {
    "collapsed": true
   },
   "outputs": [],
   "source": [
    "#(a-b)^2 = a^2 + b^2 - 2ab\n",
    "import tensorflow as tf\n"
   ]
  },
  {
   "cell_type": "code",
   "execution_count": 9,
   "metadata": {
    "collapsed": true
   },
   "outputs": [],
   "source": [
    "with tf.name_scope(\"2_minus_3_whole_squared\"):\n",
    "    x=tf.constant(2)\n",
    "    y=tf.constant(3)\n",
    "    x_square=tf.square(x,name=\"x_square\")\n",
    "    y_square=tf.square(y,name=\"y_square\")\n",
    "    xy=tf.multiply(x,y,name=\"x_into_y\")\n",
    "    _2xy=tf.multiply(2,xy,name=\"2xy\")\n",
    "    a=tf.add(x_square,y_square,name=\"x2_plus_y2\")\n",
    "    b=tf.subtract(a,_2xy,name=\"x2_plus_y2_minus_2xy\")"
   ]
  },
  {
   "cell_type": "code",
   "execution_count": 11,
   "metadata": {},
   "outputs": [
    {
     "name": "stdout",
     "output_type": "stream",
     "text": [
      "1\n"
     ]
    }
   ],
   "source": [
    "with tf.Session() as sess:\n",
    "    writer=tf.summary.FileWriter(\"/tmp/tboard/output_a\",sess.graph)\n",
    "    print(sess.run(b))\n",
    "    writer.close()\n",
    "    #tensorboard --logdir=/tmp/tboard/output_a"
   ]
  },
  {
   "cell_type": "code",
   "execution_count": 7,
   "metadata": {},
   "outputs": [
    {
     "name": "stdout",
     "output_type": "stream",
     "text": [
      "8.0\n"
     ]
    }
   ],
   "source": [
    "#(a+b)3=a3+b3+3ab(a+b)\n",
    "a=tf.placeholder(tf.float32)\n",
    "b=tf.placeholder(tf.float32)\n",
    "\n",
    "with tf.name_scope(\"a_plus_b_whole_cube\"):\n",
    "    a_cube=tf.pow(a,3,name=\"a_cube\")\n",
    "    b_cube=tf.pow(b,3,name=\"b_cube\")\n",
    "    ab=tf.multiply(a,b,name=\"a_into_b\")\n",
    "    _3ab=tf.multiply(ab,3,name=\"3ab\")\n",
    "    a_plus_b=tf.add(a,b,name=\"a_plus_b\")\n",
    "    _3ab_a_plus_b=tf.multiply( _3ab,a_plus_b,name=\"3ab_a_plus_b\")\n",
    "    result1=tf.add(a_cube,b_cube,name=\"a_cube_plus_b_cube\")\n",
    "    result=tf.add(result1,_3ab_a_plus_b,name=\"final_answer\")\n",
    "    \n",
    "    \n",
    "with tf.Session() as sess:\n",
    "    writer=tf.summary.FileWriter(\"/tmp/tboard/output_b\",sess.graph)\n",
    "    print(sess.run(result,{ a:1, b:1}))\n",
    "    writer.close()\n",
    "    #tensorboard --logdir=/tmp/tboard/output_b\n",
    "    "
   ]
  },
  {
   "cell_type": "code",
   "execution_count": null,
   "metadata": {
    "collapsed": true
   },
   "outputs": [],
   "source": []
  }
 ],
 "metadata": {
  "kernelspec": {
   "display_name": "Python 3",
   "language": "python",
   "name": "python3"
  },
  "language_info": {
   "codemirror_mode": {
    "name": "ipython",
    "version": 3
   },
   "file_extension": ".py",
   "mimetype": "text/x-python",
   "name": "python",
   "nbconvert_exporter": "python",
   "pygments_lexer": "ipython3",
   "version": "3.5.4"
  }
 },
 "nbformat": 4,
 "nbformat_minor": 2
}
