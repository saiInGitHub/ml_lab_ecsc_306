{
 "cells": [
  {
   "cell_type": "code",
   "execution_count": 8,
   "metadata": {},
   "outputs": [],
   "source": [
    "import tensorflow as tf\n",
    "array_a = tf.constant([15.0,16.0,17.0,12.0,11.0,10.0,9.0],name ='x')\n",
    "array_b = tf.constant([7.0,1.0,2.0,5.0,4.0,9.0,6.0],name='y')\n",
    "training_epoch = 800\n",
    "learning_rate = 0.003\n",
    "t1=0.0\n",
    "t0=0.0"
   ]
  },
  {
   "cell_type": "code",
   "execution_count": 9,
   "metadata": {},
   "outputs": [
    {
     "name": "stdout",
     "output_type": "stream",
     "text": [
      "h0 values: 0.5\n",
      "after rounding off, h0 value:\n",
      "1.0\n"
     ]
    }
   ],
   "source": [
    "#finding the value of h0\n",
    "hypothesis=tf.divide(1.0,tf.add(1.0,tf.exp(-tf.add(t0,tf.reduce_sum(tf.multiply(t1,array_a))))))\n",
    "model=tf.global_variables_initializer()\n",
    "sess = tf.Session()\n",
    "print(\"h0 values:\",sess.run(hypothesis))\n",
    "result=tf.cond(hypothesis<0.5,lambda:0.00,lambda:1.00)\n",
    "print(\"after rounding off, h0 value:\")\n",
    "print(sess.run(result))"
   ]
  },
  {
   "cell_type": "code",
   "execution_count": 10,
   "metadata": {},
   "outputs": [],
   "source": [
    "#cost function\n",
    "c_1 = tf.multiply(tf.subtract(1.0,array_b),tf.log(tf.subtract(1.0,result)))\n",
    "c_2 = tf.multiply(-array_b,tf.log(result))\n",
    "cost = tf.reduce_sum(tf.subtract(c_2,c_1))"
   ]
  },
  {
   "cell_type": "code",
   "execution_count": 11,
   "metadata": {},
   "outputs": [
    {
     "name": "stdout",
     "output_type": "stream",
     "text": [
      "After 800 epoch values:\n",
      "theta 1 :  0.230569\n",
      "theta 0 :  1.36557\n"
     ]
    }
   ],
   "source": [
    "#finding the value of theta 1 and theta 0\n",
    "for epoch in range(training_epoch):\n",
    "    #if error is greater than threshold value then stop the iteration\n",
    "    s1=tf.reduce_sum(tf.multiply(tf.subtract(tf.add(tf.multiply(array_a,t1),t0),array_b),array_a))\n",
    "    s0=tf.reduce_sum(tf.subtract(tf.add(tf.multiply(array_a,t1),t0),array_b))\n",
    "    tn1 = tf.subtract(t1,tf.multiply(learning_rate,tf.divide(s1,tf.cast(tf.size(array_a),tf.float32))))\n",
    "    tn0=  tf.subtract(t0,tf.multiply(learning_rate,tf.divide(s0,tf.cast(tf.size(array_a),tf.float32))))\n",
    "    t1=tn1\n",
    "    t0=tn0\n",
    "    model=tf.global_variables_initializer()\n",
    "sess = tf.Session()\n",
    "print(\"After 800 epoch values:\")\n",
    "print(\"theta 1 : \",sess.run(tn1))\n",
    "print(\"theta 0 : \",sess.run(tn0))"
   ]
  },
  {
   "cell_type": "code",
   "execution_count": null,
   "metadata": {
    "collapsed": true
   },
   "outputs": [],
   "source": []
  }
 ],
 "metadata": {
  "kernelspec": {
   "display_name": "Python 3",
   "language": "python",
   "name": "python3"
  },
  "language_info": {
   "codemirror_mode": {
    "name": "ipython",
    "version": 3
   },
   "file_extension": ".py",
   "mimetype": "text/x-python",
   "name": "python",
   "nbconvert_exporter": "python",
   "pygments_lexer": "ipython3",
   "version": "3.5.4"
  }
 },
 "nbformat": 4,
 "nbformat_minor": 2
}
