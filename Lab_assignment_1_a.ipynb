{
 "cells": [
  {
   "cell_type": "code",
   "execution_count": 2,
   "metadata": {
    "collapsed": true
   },
   "outputs": [],
   "source": [
    "#(a-b)^2 = a^2 + b^2 - 2ab\n",
    "import tensorflow as tf\n"
   ]
  },
  {
   "cell_type": "code",
   "execution_count": 3,
   "metadata": {},
   "outputs": [],
   "source": [
    "with tf.name_scope(\"2_minus_3_whole_squared\"):\n",
    "    x=tf.constant(2)\n",
    "    y=tf.constant(3)\n",
    "    x_square=tf.square(x,name=\"x_square\")\n",
    "    y_square=tf.square(y,name=\"y_square\")\n",
    "    xy=tf.multiply(x,y,name=\"x_into_y\")\n",
    "    _2xy=tf.multiply(2,xy,name=\"2xy\")\n",
    "    a=tf.add(x_square,y_square,name=\"x2_plus_y2\")\n",
    "    b=tf.subtract(a,_2xy,name=\"x2_plus_y2_minus_2xy\")"
   ]
  },
  {
   "cell_type": "code",
   "execution_count": 4,
   "metadata": {},
   "outputs": [
    {
     "name": "stdout",
     "output_type": "stream",
     "text": [
      "1\n"
     ]
    }
   ],
   "source": [
    "with tf.Session() as sess:\n",
    "    writer=tf.summary.FileWriter(\"/tmp/tboard/output_1\",sess.graph)\n",
    "    print(sess.run(b))\n",
    "    writer.close()\n",
    "    #tensorboard --logdir=/tmp/tboard/output_1"
   ]
  },
  {
   "cell_type": "code",
   "execution_count": null,
   "metadata": {
    "collapsed": true
   },
   "outputs": [],
   "source": []
  }
 ],
 "metadata": {
  "kernelspec": {
   "display_name": "Python 3",
   "language": "python",
   "name": "python3"
  },
  "language_info": {
   "codemirror_mode": {
    "name": "ipython",
    "version": 3
   },
   "file_extension": ".py",
   "mimetype": "text/x-python",
   "name": "python",
   "nbconvert_exporter": "python",
   "pygments_lexer": "ipython3",
   "version": "3.5.4"
  }
 },
 "nbformat": 4,
 "nbformat_minor": 2
}
